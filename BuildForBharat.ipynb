{
 "cells": [
  {
   "cell_type": "code",
   "execution_count": 1,
   "metadata": {},
   "outputs": [
    {
     "name": "stdout",
     "output_type": "stream",
     "text": [
      "Imported\n"
     ]
    }
   ],
   "source": [
    "import csv\n",
    "import pymysql\n",
    "\n",
    "db = pymysql.connect(host=\"localhost\",user=\"root\",password=\"1234\",db=\"BFB\")\n",
    "cursor = db.cursor()\n",
    "csv_data = csv.reader(open('dataset/infy_stock.csv'))\n",
    "for row in csv_data:\n",
    "    cursor.execute('INSERT INTO infy_stock(date,symbol,series,prev_close,open,high,low,last,close,vwap,volume,turnover,trades,deliverable_volume,deliverable_percent) VALUES(%s,%s,%s,%s,%s,%s,%s,%s,%s,%s,%s,%s,%s,%s,%s)',row)\n",
    "db.commit()\n",
    "cursor.close()\n",
    "print(\"Imported\")"
   ]
  },
  {
   "cell_type": "code",
   "execution_count": 7,
   "metadata": {},
   "outputs": [
    {
     "name": "stdout",
     "output_type": "stream",
     "text": [
      "imported\n"
     ]
    }
   ],
   "source": [
    "import csv\n",
    "import pymysql\n",
    "\n",
    "db = pymysql.connect(host=\"localhost\",user=\"root\",password=\"1234\",db=\"BFB\")\n",
    "cursor = db.cursor()\n",
    "#cursor.execute('drop table if exists nifty_it_index ')\n",
    "#cursor.execute('create table nifty_it_index(date varchar(30),open varchar(30),high varchar(30),low varchar(30),close varchar(30),volume varchar(30),turnover varchar(30)')\n",
    "csv_data = csv.reader(open('dataset/nifty_it_index.csv'))\n",
    "for row in csv_data:\n",
    "    cursor.execute('insert into nifty_it_index(date,open,high,low,close,volume,turnover) VALUES(%s,%s,%s,%s,%s,%s,%s)',row)\n",
    "db.commit()\n",
    "cursor.close()\n",
    "print(\"imported\")"
   ]
  },
  {
   "cell_type": "code",
   "execution_count": null,
   "metadata": {},
   "outputs": [],
   "source": []
  },
  {
   "cell_type": "code",
   "execution_count": null,
   "metadata": {},
   "outputs": [],
   "source": []
  },
  {
   "cell_type": "code",
   "execution_count": null,
   "metadata": {},
   "outputs": [],
   "source": []
  }
 ],
 "metadata": {
  "kernelspec": {
   "display_name": "Python 3",
   "language": "python",
   "name": "python3"
  },
  "language_info": {
   "codemirror_mode": {
    "name": "ipython",
    "version": 3
   },
   "file_extension": ".py",
   "mimetype": "text/x-python",
   "name": "python",
   "nbconvert_exporter": "python",
   "pygments_lexer": "ipython3",
   "version": "3.7.1"
  }
 },
 "nbformat": 4,
 "nbformat_minor": 2
}
